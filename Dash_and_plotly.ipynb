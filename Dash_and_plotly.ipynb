{
  "nbformat": 4,
  "nbformat_minor": 0,
  "metadata": {
    "colab": {
      "name": "Dash_and_plotly.ipynb",
      "provenance": [],
      "authorship_tag": "ABX9TyNBquJemywMW5nyWLlk2aSj",
      "include_colab_link": true
    },
    "kernelspec": {
      "name": "python3",
      "display_name": "Python 3"
    },
    "language_info": {
      "name": "python"
    }
  },
  "cells": [
    {
      "cell_type": "markdown",
      "metadata": {
        "id": "view-in-github",
        "colab_type": "text"
      },
      "source": [
        "<a href=\"https://colab.research.google.com/github/Shehab-7/Data-Visualization/blob/main/Dash_and_plotly.ipynb\" target=\"_parent\"><img src=\"https://colab.research.google.com/assets/colab-badge.svg\" alt=\"Open In Colab\"/></a>"
      ]
    },
    {
      "cell_type": "code",
      "execution_count": 1,
      "metadata": {
        "colab": {
          "base_uri": "https://localhost:8080/"
        },
        "id": "nVETpAW7Xgf9",
        "outputId": "99f21f10-9090-4dbd-ecc9-9aaf549d5ef2"
      },
      "outputs": [
        {
          "output_type": "stream",
          "name": "stdout",
          "text": [
            "Requirement already satisfied: jupyter_dash in /usr/local/lib/python3.7/dist-packages (0.4.1)\n",
            "Requirement already satisfied: requests in /usr/local/lib/python3.7/dist-packages (from jupyter_dash) (2.23.0)\n",
            "Requirement already satisfied: ipython in /usr/local/lib/python3.7/dist-packages (from jupyter_dash) (5.5.0)\n",
            "Requirement already satisfied: dash in /usr/local/lib/python3.7/dist-packages (from jupyter_dash) (2.3.0)\n",
            "Requirement already satisfied: ansi2html in /usr/local/lib/python3.7/dist-packages (from jupyter_dash) (1.7.0)\n",
            "Requirement already satisfied: flask in /usr/local/lib/python3.7/dist-packages (from jupyter_dash) (1.1.4)\n",
            "Requirement already satisfied: retrying in /usr/local/lib/python3.7/dist-packages (from jupyter_dash) (1.3.3)\n",
            "Requirement already satisfied: ipykernel in /usr/local/lib/python3.7/dist-packages (from jupyter_dash) (4.10.1)\n",
            "Requirement already satisfied: importlib-metadata in /usr/local/lib/python3.7/dist-packages (from ansi2html->jupyter_dash) (4.11.2)\n",
            "Requirement already satisfied: dash-html-components==2.0.0 in /usr/local/lib/python3.7/dist-packages (from dash->jupyter_dash) (2.0.0)\n",
            "Requirement already satisfied: plotly>=5.0.0 in /usr/local/lib/python3.7/dist-packages (from dash->jupyter_dash) (5.5.0)\n",
            "Requirement already satisfied: flask-compress in /usr/local/lib/python3.7/dist-packages (from dash->jupyter_dash) (1.11)\n",
            "Requirement already satisfied: dash-table==5.0.0 in /usr/local/lib/python3.7/dist-packages (from dash->jupyter_dash) (5.0.0)\n",
            "Requirement already satisfied: dash-core-components==2.0.0 in /usr/local/lib/python3.7/dist-packages (from dash->jupyter_dash) (2.0.0)\n",
            "Requirement already satisfied: Jinja2<3.0,>=2.10.1 in /usr/local/lib/python3.7/dist-packages (from flask->jupyter_dash) (2.11.3)\n",
            "Requirement already satisfied: itsdangerous<2.0,>=0.24 in /usr/local/lib/python3.7/dist-packages (from flask->jupyter_dash) (1.1.0)\n",
            "Requirement already satisfied: Werkzeug<2.0,>=0.15 in /usr/local/lib/python3.7/dist-packages (from flask->jupyter_dash) (1.0.1)\n",
            "Requirement already satisfied: click<8.0,>=5.1 in /usr/local/lib/python3.7/dist-packages (from flask->jupyter_dash) (7.1.2)\n",
            "Requirement already satisfied: MarkupSafe>=0.23 in /usr/local/lib/python3.7/dist-packages (from Jinja2<3.0,>=2.10.1->flask->jupyter_dash) (2.0.1)\n",
            "Requirement already satisfied: six in /usr/local/lib/python3.7/dist-packages (from plotly>=5.0.0->dash->jupyter_dash) (1.15.0)\n",
            "Requirement already satisfied: tenacity>=6.2.0 in /usr/local/lib/python3.7/dist-packages (from plotly>=5.0.0->dash->jupyter_dash) (8.0.1)\n",
            "Requirement already satisfied: brotli in /usr/local/lib/python3.7/dist-packages (from flask-compress->dash->jupyter_dash) (1.0.9)\n",
            "Requirement already satisfied: zipp>=0.5 in /usr/local/lib/python3.7/dist-packages (from importlib-metadata->ansi2html->jupyter_dash) (3.7.0)\n",
            "Requirement already satisfied: typing-extensions>=3.6.4 in /usr/local/lib/python3.7/dist-packages (from importlib-metadata->ansi2html->jupyter_dash) (3.10.0.2)\n",
            "Requirement already satisfied: jupyter-client in /usr/local/lib/python3.7/dist-packages (from ipykernel->jupyter_dash) (5.3.5)\n",
            "Requirement already satisfied: tornado>=4.0 in /usr/local/lib/python3.7/dist-packages (from ipykernel->jupyter_dash) (5.1.1)\n",
            "Requirement already satisfied: traitlets>=4.1.0 in /usr/local/lib/python3.7/dist-packages (from ipykernel->jupyter_dash) (5.1.1)\n",
            "Requirement already satisfied: setuptools>=18.5 in /usr/local/lib/python3.7/dist-packages (from ipython->jupyter_dash) (57.4.0)\n",
            "Requirement already satisfied: pexpect in /usr/local/lib/python3.7/dist-packages (from ipython->jupyter_dash) (4.8.0)\n",
            "Requirement already satisfied: pygments in /usr/local/lib/python3.7/dist-packages (from ipython->jupyter_dash) (2.6.1)\n",
            "Requirement already satisfied: decorator in /usr/local/lib/python3.7/dist-packages (from ipython->jupyter_dash) (4.4.2)\n",
            "Requirement already satisfied: pickleshare in /usr/local/lib/python3.7/dist-packages (from ipython->jupyter_dash) (0.7.5)\n",
            "Requirement already satisfied: simplegeneric>0.8 in /usr/local/lib/python3.7/dist-packages (from ipython->jupyter_dash) (0.8.1)\n",
            "Requirement already satisfied: prompt-toolkit<2.0.0,>=1.0.4 in /usr/local/lib/python3.7/dist-packages (from ipython->jupyter_dash) (1.0.18)\n",
            "Requirement already satisfied: wcwidth in /usr/local/lib/python3.7/dist-packages (from prompt-toolkit<2.0.0,>=1.0.4->ipython->jupyter_dash) (0.2.5)\n",
            "Requirement already satisfied: jupyter-core>=4.6.0 in /usr/local/lib/python3.7/dist-packages (from jupyter-client->ipykernel->jupyter_dash) (4.9.2)\n",
            "Requirement already satisfied: python-dateutil>=2.1 in /usr/local/lib/python3.7/dist-packages (from jupyter-client->ipykernel->jupyter_dash) (2.8.2)\n",
            "Requirement already satisfied: pyzmq>=13 in /usr/local/lib/python3.7/dist-packages (from jupyter-client->ipykernel->jupyter_dash) (22.3.0)\n",
            "Requirement already satisfied: ptyprocess>=0.5 in /usr/local/lib/python3.7/dist-packages (from pexpect->ipython->jupyter_dash) (0.7.0)\n",
            "Requirement already satisfied: chardet<4,>=3.0.2 in /usr/local/lib/python3.7/dist-packages (from requests->jupyter_dash) (3.0.4)\n",
            "Requirement already satisfied: certifi>=2017.4.17 in /usr/local/lib/python3.7/dist-packages (from requests->jupyter_dash) (2021.10.8)\n",
            "Requirement already satisfied: urllib3!=1.25.0,!=1.25.1,<1.26,>=1.21.1 in /usr/local/lib/python3.7/dist-packages (from requests->jupyter_dash) (1.24.3)\n",
            "Requirement already satisfied: idna<3,>=2.5 in /usr/local/lib/python3.7/dist-packages (from requests->jupyter_dash) (2.10)\n"
          ]
        }
      ],
      "source": [
        "pip install jupyter_dash"
      ]
    },
    {
      "cell_type": "code",
      "source": [
        "from dash import Dash,html,dcc\n",
        "from jupyter_dash import JupyterDash \n",
        "import numpy as np\n",
        "import plotly.express as px\n",
        "from dash.dependencies import Input,Output,State"
      ],
      "metadata": {
        "id": "JBJkxFRpXpUE"
      },
      "execution_count": 38,
      "outputs": []
    },
    {
      "cell_type": "code",
      "source": [
        "df = px.data.gapminder()\n",
        "fig = px.scatter(df,x='gdpPercap',y='lifeExp',size='pop',color='continent',size_max=70,hover_name='country',symbol='continent',trendline='ols',title='Sensitive Scatter Chart')\n",
        "\n",
        "app = JupyterDash(external_stylesheets=['https://codepen.io/chriddyp/pen/bWLwgP.css'])\n",
        "app.layout= html.Div([ \n",
        "                                 \n",
        "        dcc.Graph(\n",
        "            id='my_graph',\n",
        "            figure=fig\n",
        "            ),\n",
        "\n",
        "        dcc.Slider(\n",
        "            id='my_slider',\n",
        "            min=df['year'].min(),\n",
        "            max=df['year'].max(),\n",
        "            step=None,\n",
        "            value=df['year'].min(),\n",
        "            marks={str(year):str(year) for year in df['year'].unique()}\n",
        "            ),  \n",
        "\n",
        "        html.Br(),\n",
        "\n",
        "        dcc.Dropdown(\n",
        "            id='my_dropdown',\n",
        "            options=[{'label':str(continent),'value':str(continent)} for continent in df['continent'].unique()],\n",
        "            value=None,\n",
        "            placeholder='Choose a continent',\n",
        "            multi=True\n",
        "            ),\n",
        "\n",
        "        html.Br(),\n",
        "\n",
        "        html.Button(\n",
        "            id='my_button',\n",
        "            children='Submit Changes',\n",
        "            n_clicks=0,\n",
        "            style={'marginLeft':850}\n",
        "            )\n",
        "\n",
        "        ])\n",
        "\n",
        "@app.callback(\n",
        "    Output(component_id='my_graph',component_property='figure'),\n",
        "    State(component_id='my_slider',component_property='value'),\n",
        "    State(component_id='my_dropdown',component_property='value'), \n",
        "    Input(component_id='my_button',component_property='n_clicks') \n",
        ")\n",
        "\n",
        "def update_my_graph(slider_value,dropdown_value,input_value):\n",
        "  if dropdown_value == None :\n",
        "    filter_df = df[df['year']==slider_value]\n",
        "    fig = px.scatter(\n",
        "                     filter_df,\n",
        "                     x='gdpPercap',\n",
        "                     y='lifeExp',\n",
        "                     size='pop',\n",
        "                     color='continent',\n",
        "                     size_max=70,\n",
        "                     hover_name='country',\n",
        "                     symbol='continent',\n",
        "                     trendline='ols',\n",
        "                     title='Sensitive Scatter Chart',\n",
        "                     range_x=(df['gdpPercap'].min()-10000,df['gdpPercap'].max()*1.1),\n",
        "                     range_y=(-10,df['lifeExp'].max()*1.1)\n",
        "                     )\n",
        "  else :\n",
        "    filter_df = df[(df['year']==slider_value) & (np.isin(df['continent'],dropdown_value))]\n",
        "    fig = px.scatter(\n",
        "                     filter_df,\n",
        "                     x='gdpPercap',\n",
        "                     y='lifeExp',\n",
        "                     size='pop',\n",
        "                     color='continent',\n",
        "                     size_max=70,\n",
        "                     hover_name='country',\n",
        "                     symbol='continent',\n",
        "                     trendline='ols',\n",
        "                     title='Sensitive Scatter Chart',\n",
        "                     range_x=(df['gdpPercap'].min()-10000,df['gdpPercap'].max()*1.1),\n",
        "                     range_y=(-10,df['lifeExp'].max()*1.1)\n",
        "                     )\n",
        "  return fig\n",
        "\n",
        "app.run_server() #Open the link below to check the output"
      ],
      "metadata": {
        "colab": {
          "base_uri": "https://localhost:8080/",
          "height": 52
        },
        "id": "MeI0Rd1fGn-K",
        "outputId": "2a45cd80-ec25-48a1-b566-954b2d84121a"
      },
      "execution_count": 58,
      "outputs": [
        {
          "output_type": "stream",
          "name": "stdout",
          "text": [
            "Dash app running on:\n"
          ]
        },
        {
          "output_type": "display_data",
          "data": {
            "text/plain": [
              "<IPython.core.display.Javascript object>"
            ],
            "application/javascript": [
              "(async (port, path, text, element) => {\n",
              "    if (!google.colab.kernel.accessAllowed) {\n",
              "      return;\n",
              "    }\n",
              "    element.appendChild(document.createTextNode(''));\n",
              "    const url = await google.colab.kernel.proxyPort(port);\n",
              "    const anchor = document.createElement('a');\n",
              "    anchor.href = new URL(path, url).toString();\n",
              "    anchor.target = '_blank';\n",
              "    anchor.setAttribute('data-href', url + path);\n",
              "    anchor.textContent = text;\n",
              "    element.appendChild(anchor);\n",
              "  })(8050, \"/\", \"http://127.0.0.1:8050/\", window.element)"
            ]
          },
          "metadata": {}
        }
      ]
    },
    {
      "cell_type": "code",
      "source": [
        ""
      ],
      "metadata": {
        "id": "3VR8TWIOf90e"
      },
      "execution_count": null,
      "outputs": []
    }
  ]
}